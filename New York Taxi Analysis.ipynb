{
 "cells": [
  {
   "cell_type": "markdown",
   "id": "f785e52f-881a-45d5-9b97-fb6bbc05a26d",
   "metadata": {},
   "source": [
    "# **New York Taxi Analysis**"
   ]
  },
  {
   "cell_type": "markdown",
   "id": "3f864a30-4767-4874-b30a-51e6a7a559ba",
   "metadata": {},
   "source": [
    "<a id='table_of_contents'></a>\r\n",
    "\r\n",
    "0. [Import libraries](#imports)\r\n",
    "1. [Import data](#import_data)\r\n",
    "2. [Data exploration](#data_exploration)\r\n",
    "3. [Data cleaning](#data_cleaning)\r\n",
    "4. [Data preparation](#data_preparation)\r\n",
    "5. [Benchmark model](#benchmark_model)<br>\r\n",
    "6. [Feature engineering](#feature_engineering)\r\n",
    "7. [Model training](#model_training)<br>\r\n",
    "    7.1. [Decision Tree](#decision_tree)<br>\r\n",
    "    7.2. [Random Forest](#random_forest)<br>\r\n",
    "    7.3. [Comparing algorithm performances](#comparing_algorithm_performances)\r\n",
    "8. [Tuning](#tuning)<br>"
   ]
  },
  {
   "cell_type": "markdown",
   "id": "1dfd2275-ab88-4b85-97b9-b07509a24f84",
   "metadata": {},
   "source": [
    "# 0. Import libraries <a id='imports'></a>\r\n",
    "[Back to top](#table_of_contents)"
   ]
  },
  {
   "cell_type": "code",
   "execution_count": 12,
   "id": "0c10c8db-a681-4631-960f-4a7cb247ab12",
   "metadata": {},
   "outputs": [],
   "source": [
    "import pandas as pd"
   ]
  },
  {
   "cell_type": "markdown",
   "id": "5607c37c-ad50-4a40-ba6f-ce711a47a22a",
   "metadata": {},
   "source": [
    "# 1. Import data <a id='import_data'></a>\n",
    "[Back to top](#table_of_contents)))"
   ]
  },
  {
   "cell_type": "code",
   "execution_count": 13,
   "id": "38f2afff-faf0-4b0f-b009-c9c775439c60",
   "metadata": {},
   "outputs": [],
   "source": [
    "taxi_df = pd.read_parquet('E:/Playground/New York Taxi Analysis/Data/yellow_tripdata_2024-01.parquet')"
   ]
  },
  {
   "cell_type": "code",
   "execution_count": 14,
   "id": "8bb2bab7-c02d-44ce-a9a9-4c9ed1a233e9",
   "metadata": {},
   "outputs": [
    {
     "data": {
      "text/html": [
       "<div>\n",
       "<style scoped>\n",
       "    .dataframe tbody tr th:only-of-type {\n",
       "        vertical-align: middle;\n",
       "    }\n",
       "\n",
       "    .dataframe tbody tr th {\n",
       "        vertical-align: top;\n",
       "    }\n",
       "\n",
       "    .dataframe thead th {\n",
       "        text-align: right;\n",
       "    }\n",
       "</style>\n",
       "<table border=\"1\" class=\"dataframe\">\n",
       "  <thead>\n",
       "    <tr style=\"text-align: right;\">\n",
       "      <th></th>\n",
       "      <th>VendorID</th>\n",
       "      <th>tpep_pickup_datetime</th>\n",
       "      <th>tpep_dropoff_datetime</th>\n",
       "      <th>passenger_count</th>\n",
       "      <th>trip_distance</th>\n",
       "      <th>RatecodeID</th>\n",
       "      <th>store_and_fwd_flag</th>\n",
       "      <th>PULocationID</th>\n",
       "      <th>DOLocationID</th>\n",
       "      <th>payment_type</th>\n",
       "      <th>fare_amount</th>\n",
       "      <th>extra</th>\n",
       "      <th>mta_tax</th>\n",
       "      <th>tip_amount</th>\n",
       "      <th>tolls_amount</th>\n",
       "      <th>improvement_surcharge</th>\n",
       "      <th>total_amount</th>\n",
       "      <th>congestion_surcharge</th>\n",
       "      <th>Airport_fee</th>\n",
       "    </tr>\n",
       "  </thead>\n",
       "  <tbody>\n",
       "    <tr>\n",
       "      <th>0</th>\n",
       "      <td>2</td>\n",
       "      <td>2024-01-01 00:57:55</td>\n",
       "      <td>2024-01-01 01:17:43</td>\n",
       "      <td>1.0</td>\n",
       "      <td>1.72</td>\n",
       "      <td>1.0</td>\n",
       "      <td>N</td>\n",
       "      <td>186</td>\n",
       "      <td>79</td>\n",
       "      <td>2</td>\n",
       "      <td>17.7</td>\n",
       "      <td>1.0</td>\n",
       "      <td>0.5</td>\n",
       "      <td>0.00</td>\n",
       "      <td>0.0</td>\n",
       "      <td>1.0</td>\n",
       "      <td>22.70</td>\n",
       "      <td>2.5</td>\n",
       "      <td>0.0</td>\n",
       "    </tr>\n",
       "    <tr>\n",
       "      <th>1</th>\n",
       "      <td>1</td>\n",
       "      <td>2024-01-01 00:03:00</td>\n",
       "      <td>2024-01-01 00:09:36</td>\n",
       "      <td>1.0</td>\n",
       "      <td>1.80</td>\n",
       "      <td>1.0</td>\n",
       "      <td>N</td>\n",
       "      <td>140</td>\n",
       "      <td>236</td>\n",
       "      <td>1</td>\n",
       "      <td>10.0</td>\n",
       "      <td>3.5</td>\n",
       "      <td>0.5</td>\n",
       "      <td>3.75</td>\n",
       "      <td>0.0</td>\n",
       "      <td>1.0</td>\n",
       "      <td>18.75</td>\n",
       "      <td>2.5</td>\n",
       "      <td>0.0</td>\n",
       "    </tr>\n",
       "    <tr>\n",
       "      <th>2</th>\n",
       "      <td>1</td>\n",
       "      <td>2024-01-01 00:17:06</td>\n",
       "      <td>2024-01-01 00:35:01</td>\n",
       "      <td>1.0</td>\n",
       "      <td>4.70</td>\n",
       "      <td>1.0</td>\n",
       "      <td>N</td>\n",
       "      <td>236</td>\n",
       "      <td>79</td>\n",
       "      <td>1</td>\n",
       "      <td>23.3</td>\n",
       "      <td>3.5</td>\n",
       "      <td>0.5</td>\n",
       "      <td>3.00</td>\n",
       "      <td>0.0</td>\n",
       "      <td>1.0</td>\n",
       "      <td>31.30</td>\n",
       "      <td>2.5</td>\n",
       "      <td>0.0</td>\n",
       "    </tr>\n",
       "    <tr>\n",
       "      <th>3</th>\n",
       "      <td>1</td>\n",
       "      <td>2024-01-01 00:36:38</td>\n",
       "      <td>2024-01-01 00:44:56</td>\n",
       "      <td>1.0</td>\n",
       "      <td>1.40</td>\n",
       "      <td>1.0</td>\n",
       "      <td>N</td>\n",
       "      <td>79</td>\n",
       "      <td>211</td>\n",
       "      <td>1</td>\n",
       "      <td>10.0</td>\n",
       "      <td>3.5</td>\n",
       "      <td>0.5</td>\n",
       "      <td>2.00</td>\n",
       "      <td>0.0</td>\n",
       "      <td>1.0</td>\n",
       "      <td>17.00</td>\n",
       "      <td>2.5</td>\n",
       "      <td>0.0</td>\n",
       "    </tr>\n",
       "    <tr>\n",
       "      <th>4</th>\n",
       "      <td>1</td>\n",
       "      <td>2024-01-01 00:46:51</td>\n",
       "      <td>2024-01-01 00:52:57</td>\n",
       "      <td>1.0</td>\n",
       "      <td>0.80</td>\n",
       "      <td>1.0</td>\n",
       "      <td>N</td>\n",
       "      <td>211</td>\n",
       "      <td>148</td>\n",
       "      <td>1</td>\n",
       "      <td>7.9</td>\n",
       "      <td>3.5</td>\n",
       "      <td>0.5</td>\n",
       "      <td>3.20</td>\n",
       "      <td>0.0</td>\n",
       "      <td>1.0</td>\n",
       "      <td>16.10</td>\n",
       "      <td>2.5</td>\n",
       "      <td>0.0</td>\n",
       "    </tr>\n",
       "  </tbody>\n",
       "</table>\n",
       "</div>"
      ],
      "text/plain": [
       "   VendorID tpep_pickup_datetime tpep_dropoff_datetime  passenger_count  \\\n",
       "0         2  2024-01-01 00:57:55   2024-01-01 01:17:43              1.0   \n",
       "1         1  2024-01-01 00:03:00   2024-01-01 00:09:36              1.0   \n",
       "2         1  2024-01-01 00:17:06   2024-01-01 00:35:01              1.0   \n",
       "3         1  2024-01-01 00:36:38   2024-01-01 00:44:56              1.0   \n",
       "4         1  2024-01-01 00:46:51   2024-01-01 00:52:57              1.0   \n",
       "\n",
       "   trip_distance  RatecodeID store_and_fwd_flag  PULocationID  DOLocationID  \\\n",
       "0           1.72         1.0                  N           186            79   \n",
       "1           1.80         1.0                  N           140           236   \n",
       "2           4.70         1.0                  N           236            79   \n",
       "3           1.40         1.0                  N            79           211   \n",
       "4           0.80         1.0                  N           211           148   \n",
       "\n",
       "   payment_type  fare_amount  extra  mta_tax  tip_amount  tolls_amount  \\\n",
       "0             2         17.7    1.0      0.5        0.00           0.0   \n",
       "1             1         10.0    3.5      0.5        3.75           0.0   \n",
       "2             1         23.3    3.5      0.5        3.00           0.0   \n",
       "3             1         10.0    3.5      0.5        2.00           0.0   \n",
       "4             1          7.9    3.5      0.5        3.20           0.0   \n",
       "\n",
       "   improvement_surcharge  total_amount  congestion_surcharge  Airport_fee  \n",
       "0                    1.0         22.70                   2.5          0.0  \n",
       "1                    1.0         18.75                   2.5          0.0  \n",
       "2                    1.0         31.30                   2.5          0.0  \n",
       "3                    1.0         17.00                   2.5          0.0  \n",
       "4                    1.0         16.10                   2.5          0.0  "
      ]
     },
     "execution_count": 14,
     "metadata": {},
     "output_type": "execute_result"
    }
   ],
   "source": [
    "taxi_df.head()"
   ]
  },
  {
   "cell_type": "code",
   "execution_count": 15,
   "id": "f5b39a1f-c20a-4bb4-8d47-ff6e628f24f6",
   "metadata": {},
   "outputs": [
    {
     "data": {
      "text/plain": [
       "(2964624, 19)"
      ]
     },
     "execution_count": 15,
     "metadata": {},
     "output_type": "execute_result"
    }
   ],
   "source": [
    "taxi_df.shape"
   ]
  },
  {
   "cell_type": "code",
   "execution_count": null,
   "id": "542b3971-ba0d-4b3a-b2db-fad455e77b14",
   "metadata": {},
   "outputs": [],
   "source": []
  },
  {
   "cell_type": "code",
   "execution_count": null,
   "id": "6d488c74-e5b3-4f9b-8d63-a146022165ea",
   "metadata": {},
   "outputs": [],
   "source": []
  },
  {
   "cell_type": "code",
   "execution_count": null,
   "id": "2cd28c33-d004-4942-88b9-c4be00971f6b",
   "metadata": {},
   "outputs": [],
   "source": []
  },
  {
   "cell_type": "code",
   "execution_count": null,
   "id": "3fc3b952-01d6-4919-8aa3-149256f2ca10",
   "metadata": {},
   "outputs": [],
   "source": []
  },
  {
   "cell_type": "markdown",
   "id": "d3ca17ee-62e2-4ab6-9a10-78a126592602",
   "metadata": {},
   "source": [
    "# 2. Data exploration <a id='data_exploration'></a>\r\n",
    "[Back to top](#table_of_contents))"
   ]
  },
  {
   "cell_type": "markdown",
   "id": "b37b9cac-d762-47fe-84d5-3370d6fb4db4",
   "metadata": {},
   "source": [
    "# 3. Data cleaning <a id='data_cleaning'></a>\r\n",
    "[Back to top](#table_of_contents))"
   ]
  },
  {
   "cell_type": "markdown",
   "id": "4950b75e-85f8-460c-b7a9-ba61da1443a0",
   "metadata": {},
   "source": [
    "# 4. Data preparation <a id='data_preparation'></a>\r\n",
    "[Back to top](#table_of_contents))"
   ]
  },
  {
   "cell_type": "markdown",
   "id": "a0be2c06-0397-4a93-a1be-e2751eca7c66",
   "metadata": {},
   "source": [
    "# 5. Benchmark model <a id='benchmark_model'></a>\r\n",
    "[Back to top](#table_of_contents))"
   ]
  },
  {
   "cell_type": "markdown",
   "id": "bfbb05d4-4127-4c4a-af0c-51c4c0dcd8fb",
   "metadata": {},
   "source": [
    "# 6. Feature engineering <a id='feature_engineering'></a>\r\n",
    "[Back to top](#table_of_contents))"
   ]
  },
  {
   "cell_type": "markdown",
   "id": "04d5dfb3-1f46-46e7-80c4-053794f364e4",
   "metadata": {},
   "source": [
    "# 7. Model training <a id='model_training'></a>\r\n",
    "[Back to top](#table_of_contents))"
   ]
  },
  {
   "cell_type": "markdown",
   "id": "beeb398e-ef6a-47da-8602-9bfeebd5a1d8",
   "metadata": {},
   "source": [
    "## 7.1. Decision tree <a id='decision_tree'></a>\n",
    "[Back to top](#table_of_contents))"
   ]
  },
  {
   "cell_type": "markdown",
   "id": "e2fafc9a-2eb0-48a3-b22b-7346815082a9",
   "metadata": {},
   "source": [
    "## 7.2. Random forest <a id='random_forest'></a>\r\n",
    "[Back to top](#table_of_contents))"
   ]
  },
  {
   "cell_type": "markdown",
   "id": "abfc4e17-f570-4776-bee2-04272f8081a6",
   "metadata": {},
   "source": [
    "## 7.3. Comparing algorithm performances <a id='comparing_algorithm_performances'></a>\r\n",
    "[Back to top](#table_of_contents))"
   ]
  },
  {
   "cell_type": "markdown",
   "id": "1f655839-c26f-4ec3-b65e-4e7a86993490",
   "metadata": {},
   "source": [
    "# 8. Tuning <a id='tuning'></a>\r\n",
    "[Back to top](#table_of_content)))"
   ]
  },
  {
   "cell_type": "code",
   "execution_count": null,
   "id": "83dd1ca4-89d2-4150-9c14-80533682abb2",
   "metadata": {},
   "outputs": [],
   "source": []
  }
 ],
 "metadata": {
  "kernelspec": {
   "display_name": "Python 3 (ipykernel)",
   "language": "python",
   "name": "python3"
  },
  "language_info": {
   "codemirror_mode": {
    "name": "ipython",
    "version": 3
   },
   "file_extension": ".py",
   "mimetype": "text/x-python",
   "name": "python",
   "nbconvert_exporter": "python",
   "pygments_lexer": "ipython3",
   "version": "3.12.4"
  }
 },
 "nbformat": 4,
 "nbformat_minor": 5
}
